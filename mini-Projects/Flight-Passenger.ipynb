{
 "cells": [
  {
   "cell_type": "code",
   "execution_count": 1,
   "metadata": {},
   "outputs": [],
   "source": [
    "import pandas as pd\n",
    "import matplotlib.pyplot as plt\n",
    "import seaborn as sns"
   ]
  },
  {
   "cell_type": "code",
   "execution_count": 2,
   "metadata": {},
   "outputs": [],
   "source": [
    "df = sns.load_dataset('flights')"
   ]
  },
  {
   "cell_type": "code",
   "execution_count": 3,
   "metadata": {},
   "outputs": [
    {
     "data": {
      "text/plain": [
       "(144, 3)"
      ]
     },
     "execution_count": 3,
     "metadata": {},
     "output_type": "execute_result"
    }
   ],
   "source": [
    "df.shape"
   ]
  },
  {
   "cell_type": "code",
   "execution_count": 4,
   "metadata": {},
   "outputs": [
    {
     "data": {
      "text/html": [
       "<div>\n",
       "<style scoped>\n",
       "    .dataframe tbody tr th:only-of-type {\n",
       "        vertical-align: middle;\n",
       "    }\n",
       "\n",
       "    .dataframe tbody tr th {\n",
       "        vertical-align: top;\n",
       "    }\n",
       "\n",
       "    .dataframe thead th {\n",
       "        text-align: right;\n",
       "    }\n",
       "</style>\n",
       "<table border=\"1\" class=\"dataframe\">\n",
       "  <thead>\n",
       "    <tr style=\"text-align: right;\">\n",
       "      <th></th>\n",
       "      <th>year</th>\n",
       "      <th>month</th>\n",
       "      <th>passengers</th>\n",
       "    </tr>\n",
       "  </thead>\n",
       "  <tbody>\n",
       "    <tr>\n",
       "      <th>0</th>\n",
       "      <td>1949</td>\n",
       "      <td>January</td>\n",
       "      <td>112</td>\n",
       "    </tr>\n",
       "    <tr>\n",
       "      <th>1</th>\n",
       "      <td>1949</td>\n",
       "      <td>February</td>\n",
       "      <td>118</td>\n",
       "    </tr>\n",
       "    <tr>\n",
       "      <th>2</th>\n",
       "      <td>1949</td>\n",
       "      <td>March</td>\n",
       "      <td>132</td>\n",
       "    </tr>\n",
       "    <tr>\n",
       "      <th>3</th>\n",
       "      <td>1949</td>\n",
       "      <td>April</td>\n",
       "      <td>129</td>\n",
       "    </tr>\n",
       "    <tr>\n",
       "      <th>4</th>\n",
       "      <td>1949</td>\n",
       "      <td>May</td>\n",
       "      <td>121</td>\n",
       "    </tr>\n",
       "  </tbody>\n",
       "</table>\n",
       "</div>"
      ],
      "text/plain": [
       "   year     month  passengers\n",
       "0  1949   January         112\n",
       "1  1949  February         118\n",
       "2  1949     March         132\n",
       "3  1949     April         129\n",
       "4  1949       May         121"
      ]
     },
     "execution_count": 4,
     "metadata": {},
     "output_type": "execute_result"
    }
   ],
   "source": [
    "df.head()"
   ]
  },
  {
   "cell_type": "code",
   "execution_count": 5,
   "metadata": {},
   "outputs": [
    {
     "data": {
      "text/html": [
       "<div>\n",
       "<style scoped>\n",
       "    .dataframe tbody tr th:only-of-type {\n",
       "        vertical-align: middle;\n",
       "    }\n",
       "\n",
       "    .dataframe tbody tr th {\n",
       "        vertical-align: top;\n",
       "    }\n",
       "\n",
       "    .dataframe thead th {\n",
       "        text-align: right;\n",
       "    }\n",
       "</style>\n",
       "<table border=\"1\" class=\"dataframe\">\n",
       "  <thead>\n",
       "    <tr style=\"text-align: right;\">\n",
       "      <th></th>\n",
       "      <th>year</th>\n",
       "      <th>month</th>\n",
       "      <th>passengers</th>\n",
       "    </tr>\n",
       "  </thead>\n",
       "  <tbody>\n",
       "    <tr>\n",
       "      <th>139</th>\n",
       "      <td>1960</td>\n",
       "      <td>August</td>\n",
       "      <td>606</td>\n",
       "    </tr>\n",
       "    <tr>\n",
       "      <th>140</th>\n",
       "      <td>1960</td>\n",
       "      <td>September</td>\n",
       "      <td>508</td>\n",
       "    </tr>\n",
       "    <tr>\n",
       "      <th>141</th>\n",
       "      <td>1960</td>\n",
       "      <td>October</td>\n",
       "      <td>461</td>\n",
       "    </tr>\n",
       "    <tr>\n",
       "      <th>142</th>\n",
       "      <td>1960</td>\n",
       "      <td>November</td>\n",
       "      <td>390</td>\n",
       "    </tr>\n",
       "    <tr>\n",
       "      <th>143</th>\n",
       "      <td>1960</td>\n",
       "      <td>December</td>\n",
       "      <td>432</td>\n",
       "    </tr>\n",
       "  </tbody>\n",
       "</table>\n",
       "</div>"
      ],
      "text/plain": [
       "     year      month  passengers\n",
       "139  1960     August         606\n",
       "140  1960  September         508\n",
       "141  1960    October         461\n",
       "142  1960   November         390\n",
       "143  1960   December         432"
      ]
     },
     "execution_count": 5,
     "metadata": {},
     "output_type": "execute_result"
    }
   ],
   "source": [
    "df.tail()"
   ]
  },
  {
   "cell_type": "code",
   "execution_count": 6,
   "metadata": {},
   "outputs": [
    {
     "name": "stdout",
     "output_type": "stream",
     "text": [
      "<class 'pandas.core.frame.DataFrame'>\n",
      "RangeIndex: 144 entries, 0 to 143\n",
      "Data columns (total 3 columns):\n",
      " #   Column      Non-Null Count  Dtype   \n",
      "---  ------      --------------  -----   \n",
      " 0   year        144 non-null    int64   \n",
      " 1   month       144 non-null    category\n",
      " 2   passengers  144 non-null    int64   \n",
      "dtypes: category(1), int64(2)\n",
      "memory usage: 2.9 KB\n"
     ]
    }
   ],
   "source": [
    "df.info()"
   ]
  },
  {
   "cell_type": "code",
   "execution_count": 7,
   "metadata": {},
   "outputs": [
    {
     "data": {
      "text/plain": [
       "Index(['year', 'month', 'passengers'], dtype='object')"
      ]
     },
     "execution_count": 7,
     "metadata": {},
     "output_type": "execute_result"
    }
   ],
   "source": [
    "df.columns"
   ]
  },
  {
   "cell_type": "code",
   "execution_count": 8,
   "metadata": {},
   "outputs": [],
   "source": [
    "#df.year = df.year.astype('datetime64[ns]')\n",
    "#df.year = df.year.dt.year"
   ]
  },
  {
   "cell_type": "code",
   "execution_count": 9,
   "metadata": {},
   "outputs": [
    {
     "data": {
      "text/plain": [
       "<AxesSubplot:xlabel='year', ylabel='count'>"
      ]
     },
     "execution_count": 9,
     "metadata": {},
     "output_type": "execute_result"
    },
    {
     "data": {
      "image/png": "[encoded data removed]",
      "text/plain": [
       "<Figure size 432x288 with 1 Axes>"
      ]
     },
     "metadata": {
      "needs_background": "light"
     },
     "output_type": "display_data"
    }
   ],
   "source": [
    "sns.countplot(df['year'])"
   ]
  },
  {
   "cell_type": "code",
   "execution_count": 10,
   "metadata": {},
   "outputs": [
    {
     "data": {
      "text/plain": [
       "<AxesSubplot:xlabel='month', ylabel='count'>"
      ]
     },
     "execution_count": 10,
     "metadata": {},
     "output_type": "execute_result"
    },
    {
     "data": {
      "image/png": "[encoded data removed]",
      "text/plain": [
       "<Figure size 432x288 with 1 Axes>"
      ]
     },
     "metadata": {
      "needs_background": "light"
     },
     "output_type": "display_data"
    }
   ],
   "source": [
    "sns.countplot(df['month'])"
   ]
  },
  {
   "cell_type": "code",
   "execution_count": 11,
   "metadata": {},
   "outputs": [
    {
     "data": {
      "text/plain": [
       "<AxesSubplot:xlabel='passengers'>"
      ]
     },
     "execution_count": 11,
     "metadata": {},
     "output_type": "execute_result"
    },
    {
     "data": {
      "image/png": "[encoded data removed]",
      "text/plain": [
       "<Figure size 432x288 with 1 Axes>"
      ]
     },
     "metadata": {},
     "output_type": "display_data"
    }
   ],
   "source": [
    "sns.set_style('darkgrid')\n",
    "sns.distplot(df['passengers'])"
   ]
  },
  {
   "cell_type": "code",
   "execution_count": 29,
   "metadata": {
    "scrolled": true
   },
   "outputs": [
    {
     "data": {
      "text/plain": [
       "<AxesSubplot:xlabel='year', ylabel='passengers'>"
      ]
     },
     "execution_count": 29,
     "metadata": {},
     "output_type": "execute_result"
    },
    {
     "data": {
      "image/png": "[encoded data removed]",
      "text/plain": [
       "<Figure size 1080x576 with 1 Axes>"
      ]
     },
     "metadata": {},
     "output_type": "display_data"
    }
   ],
   "source": [
    "plt.figure(figsize=(15,8))\n",
    "sns.boxplot(x='year', y='passengers', data=df)"
   ]
  },
  {
   "cell_type": "code",
   "execution_count": 13,
   "metadata": {},
   "outputs": [
    {
     "data": {
      "text/plain": [
       "<AxesSubplot:xlabel='month', ylabel='passengers'>"
      ]
     },
     "execution_count": 13,
     "metadata": {},
     "output_type": "execute_result"
    },
    {
     "data": {
      "image/png": "[encoded data removed]",
      "text/plain": [
       "<Figure size 1080x576 with 1 Axes>"
      ]
     },
     "metadata": {},
     "output_type": "display_data"
    }
   ],
   "source": [
    "plt.figure(figsize=(15,8))\n",
    "sns.boxplot(x='month', y='passengers', data=df)"
   ]
  },
  {
   "cell_type": "code",
   "execution_count": 14,
   "metadata": {},
   "outputs": [
    {
     "data": {
      "text/plain": [
       "January      12\n",
       "February     12\n",
       "March        12\n",
       "April        12\n",
       "May          12\n",
       "June         12\n",
       "July         12\n",
       "August       12\n",
       "September    12\n",
       "October      12\n",
       "November     12\n",
       "December     12\n",
       "Name: month, dtype: int64"
      ]
     },
     "execution_count": 14,
     "metadata": {},
     "output_type": "execute_result"
    }
   ],
   "source": [
    "df.month.value_counts().sort_index()"
   ]
  },
  {
   "cell_type": "code",
   "execution_count": 15,
   "metadata": {},
   "outputs": [],
   "source": [
    "df['month'] = df['month'].map({'January':1, 'February':2, 'March':3, 'April':4, 'May':5, 'June':6, 'July':7, \n",
    "                             'August':8, 'September':9, 'October':10, 'November':11, 'December':12})"
   ]
  },
  {
   "cell_type": "code",
   "execution_count": 16,
   "metadata": {},
   "outputs": [],
   "source": [
    "df.month = df.month.astype('int64')"
   ]
  },
  {
   "cell_type": "code",
   "execution_count": 17,
   "metadata": {},
   "outputs": [
    {
     "name": "stdout",
     "output_type": "stream",
     "text": [
      "<class 'pandas.core.frame.DataFrame'>\n",
      "RangeIndex: 144 entries, 0 to 143\n",
      "Data columns (total 3 columns):\n",
      " #   Column      Non-Null Count  Dtype\n",
      "---  ------      --------------  -----\n",
      " 0   year        144 non-null    int64\n",
      " 1   month       144 non-null    int64\n",
      " 2   passengers  144 non-null    int64\n",
      "dtypes: int64(3)\n",
      "memory usage: 3.5 KB\n"
     ]
    }
   ],
   "source": [
    "df.info()"
   ]
  },
  {
   "cell_type": "code",
   "execution_count": 18,
   "metadata": {},
   "outputs": [
    {
     "data": {
      "text/plain": [
       "<AxesSubplot:>"
      ]
     },
     "execution_count": 18,
     "metadata": {},
     "output_type": "execute_result"
    },
    {
     "data": {
      "image/png": "[encoded data removed]",
      "text/plain": [
       "<Figure size 432x288 with 2 Axes>"
      ]
     },
     "metadata": {},
     "output_type": "display_data"
    }
   ],
   "source": [
    "sns.heatmap(df.corr(), annot=True, cmap='RdYlGn')"
   ]
  },
  {
   "cell_type": "code",
   "execution_count": 19,
   "metadata": {},
   "outputs": [],
   "source": [
    "from sklearn.preprocessing import StandardScaler\n",
    "scalar = StandardScaler()"
   ]
  },
  {
   "cell_type": "code",
   "execution_count": 20,
   "metadata": {},
   "outputs": [
    {
     "data": {
      "text/plain": [
       "array([[-1.59325501, -1.59325501, -1.40777884],\n",
       "       [-1.59325501, -1.30357228, -1.35759023],\n",
       "       [-1.59325501, -1.01388955, -1.24048348],\n",
       "       [-1.59325501, -0.72420682, -1.26557778],\n",
       "       [-1.59325501, -0.43452409, -1.33249593],\n",
       "       [-1.59325501, -0.14484136, -1.21538918],\n",
       "       [-1.59325501,  0.14484136, -1.10664719],\n",
       "       [-1.59325501,  0.43452409, -1.10664719],\n",
       "       [-1.59325501,  0.72420682, -1.20702441],\n",
       "       [-1.59325501,  1.01388955, -1.34922546],\n",
       "       [-1.59325501,  1.30357228, -1.47469699],\n",
       "       [-1.59325501,  1.59325501, -1.35759023],\n",
       "       [-1.30357228, -1.59325501, -1.38268454],\n",
       "       [-1.30357228, -1.30357228, -1.29067209],\n",
       "       [-1.30357228, -1.01388955, -1.16520057],\n",
       "       [-1.30357228, -0.72420682, -1.21538918],\n",
       "       [-1.30357228, -0.43452409, -1.29903686],\n",
       "       [-1.30357228, -0.14484136, -1.09828242],\n",
       "       [-1.30357228,  0.14484136, -0.9226223 ],\n",
       "       [-1.30357228,  0.43452409, -0.9226223 ],\n",
       "       [-1.30357228,  0.72420682, -1.02299951],\n",
       "       [-1.30357228,  1.01388955, -1.23211871],\n",
       "       [-1.30357228,  1.30357228, -1.3910493 ],\n",
       "       [-1.30357228,  1.59325501, -1.17356534],\n",
       "       [-1.01388955, -1.59325501, -1.1317415 ],\n",
       "       [-1.01388955, -1.30357228, -1.08991766],\n",
       "       [-1.01388955, -1.01388955, -0.85570415],\n",
       "       [-1.01388955, -0.72420682, -0.98117567],\n",
       "       [-1.01388955, -0.43452409, -0.90589276],\n",
       "       [-1.01388955, -0.14484136, -0.85570415],\n",
       "       [-1.01388955,  0.14484136, -0.68004402],\n",
       "       [-1.01388955,  0.43452409, -0.68004402],\n",
       "       [-1.01388955,  0.72420682, -0.80551554],\n",
       "       [-1.01388955,  1.01388955, -0.98954044],\n",
       "       [-1.01388955,  1.30357228, -1.12337673],\n",
       "       [-1.01388955,  1.59325501, -0.95608137],\n",
       "       [-0.72420682, -1.59325501, -0.91425753],\n",
       "       [-0.72420682, -1.30357228, -0.83897462],\n",
       "       [-0.72420682, -1.01388955, -0.73023263],\n",
       "       [-0.72420682, -0.72420682, -0.83060985],\n",
       "       [-0.72420682, -0.43452409, -0.81388031],\n",
       "       [-0.72420682, -0.14484136, -0.52111343],\n",
       "       [-0.72420682,  0.14484136, -0.42073621],\n",
       "       [-0.72420682,  0.43452409, -0.320359  ],\n",
       "       [-0.72420682,  0.72420682, -0.59639634],\n",
       "       [-0.72420682,  1.01388955, -0.74696217],\n",
       "       [-0.72420682,  1.30357228, -0.90589276],\n",
       "       [-0.72420682,  1.59325501, -0.72186786],\n",
       "       [-0.43452409, -1.59325501, -0.70513833],\n",
       "       [-0.43452409, -1.30357228, -0.70513833],\n",
       "       [-0.43452409, -1.01388955, -0.37054761],\n",
       "       [-0.43452409, -0.72420682, -0.37891237],\n",
       "       [-0.43452409, -0.43452409, -0.42910098],\n",
       "       [-0.43452409, -0.14484136, -0.31199423],\n",
       "       [-0.43452409,  0.14484136, -0.1363341 ],\n",
       "       [-0.43452409,  0.43452409, -0.06941596],\n",
       "       [-0.43452409,  0.72420682, -0.36218284],\n",
       "       [-0.43452409,  1.01388955, -0.57966681],\n",
       "       [-0.43452409,  1.30357228, -0.83897462],\n",
       "       [-0.43452409,  1.59325501, -0.66331449],\n",
       "       [-0.14484136, -1.59325501, -0.63822018],\n",
       "       [-0.14484136, -1.30357228, -0.77205647],\n",
       "       [-0.14484136, -1.01388955, -0.37891237],\n",
       "       [-0.14484136, -0.72420682, -0.44583052],\n",
       "       [-0.14484136, -0.43452409, -0.38727714],\n",
       "       [-0.14484136, -0.14484136, -0.1363341 ],\n",
       "       [-0.14484136,  0.14484136,  0.18152708],\n",
       "       [-0.14484136,  0.43452409,  0.10624417],\n",
       "       [-0.14484136,  0.72420682, -0.17815794],\n",
       "       [-0.14484136,  1.01388955, -0.42910098],\n",
       "       [-0.14484136,  1.30357228, -0.64658495],\n",
       "       [-0.14484136,  1.59325501, -0.42910098],\n",
       "       [ 0.14484136, -1.59325501, -0.320359  ],\n",
       "       [ 0.14484136, -1.30357228, -0.39564191],\n",
       "       [ 0.14484136, -1.01388955, -0.1112398 ],\n",
       "       [ 0.14484136, -0.72420682, -0.09451026],\n",
       "       [ 0.14484136, -0.43452409, -0.08614549],\n",
       "       [ 0.14484136, -0.14484136,  0.29026907],\n",
       "       [ 0.14484136,  0.14484136,  0.7001427 ],\n",
       "       [ 0.14484136,  0.43452409,  0.55794164],\n",
       "       [ 0.14484136,  0.72420682,  0.26517476],\n",
       "       [ 0.14484136,  1.01388955, -0.05268642],\n",
       "       [ 0.14484136,  1.30357228, -0.36218284],\n",
       "       [ 0.14484136,  1.59325501, -0.01922735],\n",
       "       [ 0.43452409, -1.59325501,  0.03096126],\n",
       "       [ 0.43452409, -1.30357228, -0.02759212],\n",
       "       [ 0.43452409, -1.01388955,  0.3069986 ],\n",
       "       [ 0.43452409, -0.72420682,  0.27353953],\n",
       "       [ 0.43452409, -0.43452409,  0.31536337],\n",
       "       [ 0.43452409, -0.14484136,  0.78379038],\n",
       "       [ 0.43452409,  0.14484136,  1.11001633],\n",
       "       [ 0.43452409,  0.43452409,  1.04309819],\n",
       "       [ 0.43452409,  0.72420682,  0.62485979],\n",
       "       [ 0.43452409,  1.01388955,  0.21498616],\n",
       "       [ 0.43452409,  1.30357228, -0.07778072],\n",
       "       [ 0.43452409,  1.59325501,  0.21498616],\n",
       "       [ 0.72420682, -1.59325501,  0.29026907],\n",
       "       [ 0.72420682, -1.30357228,  0.17316232],\n",
       "       [ 0.72420682, -1.01388955,  0.63322456],\n",
       "       [ 0.72420682, -0.72420682,  0.56630641],\n",
       "       [ 0.72420682, -0.43452409,  0.62485979],\n",
       "       [ 0.72420682, -0.14484136,  1.18529925],\n",
       "       [ 0.72420682,  0.14484136,  1.54498427],\n",
       "       [ 0.72420682,  0.43452409,  1.56171381],\n",
       "       [ 0.72420682,  0.72420682,  1.03473342],\n",
       "       [ 0.72420682,  1.01388955,  0.55794164],\n",
       "       [ 0.72420682,  1.30357228,  0.20662139],\n",
       "       [ 0.72420682,  1.59325501,  0.4659292 ],\n",
       "       [ 1.01388955, -1.59325501,  0.49938827],\n",
       "       [ 1.01388955, -1.30357228,  0.31536337],\n",
       "       [ 1.01388955, -1.01388955,  0.68341317],\n",
       "       [ 1.01388955, -0.72420682,  0.56630641],\n",
       "       [ 1.01388955, -0.43452409,  0.69177793],\n",
       "       [ 1.01388955, -0.14484136,  1.29404123],\n",
       "       [ 1.01388955,  0.14484136,  1.76246824],\n",
       "       [ 1.01388955,  0.43452409,  1.87957499],\n",
       "       [ 1.01388955,  0.72420682,  1.03473342],\n",
       "       [ 1.01388955,  1.01388955,  0.65831886],\n",
       "       [ 1.01388955,  1.30357228,  0.24844523],\n",
       "       [ 1.01388955,  1.59325501,  0.47429396],\n",
       "       [ 1.30357228, -1.59325501,  0.66668363],\n",
       "       [ 1.30357228, -1.30357228,  0.5161178 ],\n",
       "       [ 1.30357228, -1.01388955,  1.05146296],\n",
       "       [ 1.30357228, -0.72420682,  0.96781528],\n",
       "       [ 1.30357228, -0.43452409,  1.16856971],\n",
       "       [ 1.30357228, -0.14484136,  1.60353765],\n",
       "       [ 1.30357228,  0.14484136,  2.23926002],\n",
       "       [ 1.30357228,  0.43452409,  2.33127247],\n",
       "       [ 1.30357228,  0.72420682,  1.52825474],\n",
       "       [ 1.30357228,  1.01388955,  1.05982773],\n",
       "       [ 1.30357228,  1.30357228,  0.68341317],\n",
       "       [ 1.30357228,  1.59325501,  1.04309819],\n",
       "       [ 1.59325501, -1.59325501,  1.14347541],\n",
       "       [ 1.59325501, -1.30357228,  0.92599144],\n",
       "       [ 1.59325501, -1.01388955,  1.16020494],\n",
       "       [ 1.59325501, -0.72420682,  1.5115252 ],\n",
       "       [ 1.59325501, -0.43452409,  1.60353765],\n",
       "       [ 1.59325501, -0.14484136,  2.13051803],\n",
       "       [ 1.59325501,  0.14484136,  2.85825285],\n",
       "       [ 1.59325501,  0.43452409,  2.72441656],\n",
       "       [ 1.59325501,  0.72420682,  1.9046693 ],\n",
       "       [ 1.59325501,  1.01388955,  1.5115252 ],\n",
       "       [ 1.59325501,  1.30357228,  0.91762667],\n",
       "       [ 1.59325501,  1.59325501,  1.26894693]])"
      ]
     },
     "execution_count": 20,
     "metadata": {},
     "output_type": "execute_result"
    }
   ],
   "source": [
    "df_scaled = scalar.fit_transform(df)\n",
    "df_scaled"
   ]
  },
  {
   "cell_type": "code",
   "execution_count": 21,
   "metadata": {},
   "outputs": [
    {
     "data": {
      "text/html": [
       "<div>\n",
       "<style scoped>\n",
       "    .dataframe tbody tr th:only-of-type {\n",
       "        vertical-align: middle;\n",
       "    }\n",
       "\n",
       "    .dataframe tbody tr th {\n",
       "        vertical-align: top;\n",
       "    }\n",
       "\n",
       "    .dataframe thead th {\n",
       "        text-align: right;\n",
       "    }\n",
       "</style>\n",
       "<table border=\"1\" class=\"dataframe\">\n",
       "  <thead>\n",
       "    <tr style=\"text-align: right;\">\n",
       "      <th></th>\n",
       "      <th>year</th>\n",
       "      <th>month</th>\n",
       "      <th>passengers</th>\n",
       "    </tr>\n",
       "  </thead>\n",
       "  <tbody>\n",
       "    <tr>\n",
       "      <th>0</th>\n",
       "      <td>-1.593255</td>\n",
       "      <td>-1.593255</td>\n",
       "      <td>-1.407779</td>\n",
       "    </tr>\n",
       "    <tr>\n",
       "      <th>1</th>\n",
       "      <td>-1.593255</td>\n",
       "      <td>-1.303572</td>\n",
       "      <td>-1.357590</td>\n",
       "    </tr>\n",
       "    <tr>\n",
       "      <th>2</th>\n",
       "      <td>-1.593255</td>\n",
       "      <td>-1.013890</td>\n",
       "      <td>-1.240483</td>\n",
       "    </tr>\n",
       "    <tr>\n",
       "      <th>3</th>\n",
       "      <td>-1.593255</td>\n",
       "      <td>-0.724207</td>\n",
       "      <td>-1.265578</td>\n",
       "    </tr>\n",
       "    <tr>\n",
       "      <th>4</th>\n",
       "      <td>-1.593255</td>\n",
       "      <td>-0.434524</td>\n",
       "      <td>-1.332496</td>\n",
       "    </tr>\n",
       "  </tbody>\n",
       "</table>\n",
       "</div>"
      ],
      "text/plain": [
       "       year     month  passengers\n",
       "0 -1.593255 -1.593255   -1.407779\n",
       "1 -1.593255 -1.303572   -1.357590\n",
       "2 -1.593255 -1.013890   -1.240483\n",
       "3 -1.593255 -0.724207   -1.265578\n",
       "4 -1.593255 -0.434524   -1.332496"
      ]
     },
     "execution_count": 21,
     "metadata": {},
     "output_type": "execute_result"
    }
   ],
   "source": [
    "data = pd.DataFrame(data=df_scaled, columns=['year', 'month', 'passengers'])\n",
    "data.head()"
   ]
  },
  {
   "cell_type": "code",
   "execution_count": 22,
   "metadata": {},
   "outputs": [],
   "source": [
    "X = data.drop(['passengers'], axis=1)"
   ]
  },
  {
   "cell_type": "code",
   "execution_count": 23,
   "metadata": {},
   "outputs": [],
   "source": [
    "y = data['passengers']"
   ]
  },
  {
   "cell_type": "code",
   "execution_count": 24,
   "metadata": {},
   "outputs": [],
   "source": [
    "from sklearn.model_selection import train_test_split\n",
    "X_train, X_test, y_train, y_test = train_test_split(X, y, test_size=0.33, random_state=42)"
   ]
  },
  {
   "cell_type": "code",
   "execution_count": 25,
   "metadata": {},
   "outputs": [
    {
     "data": {
      "text/plain": [
       "LinearRegression()"
      ]
     },
     "execution_count": 25,
     "metadata": {},
     "output_type": "execute_result"
    }
   ],
   "source": [
    "from sklearn.linear_model import LinearRegression\n",
    "lin_reg = LinearRegression()\n",
    "lin_reg.fit(X_train, y_train)"
   ]
  },
  {
   "cell_type": "code",
   "execution_count": 26,
   "metadata": {},
   "outputs": [],
   "source": [
    "y_pred = lin_reg.predict(X_test)"
   ]
  },
  {
   "cell_type": "code",
   "execution_count": 27,
   "metadata": {},
   "outputs": [
    {
     "name": "stdout",
     "output_type": "stream",
     "text": [
      "0.8440563962342743\n"
     ]
    }
   ],
   "source": [
    "from sklearn.metrics import r2_score\n",
    "print(r2_score(y_test, y_pred))"
   ]
  },
  {
   "cell_type": "code",
   "execution_count": null,
   "metadata": {},
   "outputs": [],
   "source": []
  }
 ],
 "metadata": {
  "kernelspec": {
   "display_name": "Python 3",
   "language": "python",
   "name": "python3"
  },
  "language_info": {
   "codemirror_mode": {
    "name": "ipython",
    "version": 3
   },
   "file_extension": ".py",
   "mimetype": "text/x-python",
   "name": "python",
   "nbconvert_exporter": "python",
   "pygments_lexer": "ipython3",
   "version": "3.7.4"
  }
 },
 "nbformat": 4,
 "nbformat_minor": 4
}
